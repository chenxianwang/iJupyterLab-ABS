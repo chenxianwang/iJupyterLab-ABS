{
 "cells": [
  {
   "cell_type": "code",
   "execution_count": 1,
   "metadata": {},
   "outputs": [],
   "source": [
    "import sys\n",
    "sys.path.append(\"..\")\n",
    "import os\n",
    "from copy import deepcopy\n",
    "from dateutil.relativedelta import relativedelta\n",
    "import pandas as pd\n",
    "import numpy as np\n",
    "import datetime"
   ]
  },
  {
   "cell_type": "code",
   "execution_count": 2,
   "metadata": {},
   "outputs": [],
   "source": [
    "from ipywidgets import interact, interactive, IntSlider, Layout, interact_manual\n",
    "import ipywidgets as widgets\n",
    "from IPython.display import display\n",
    "\n",
    "import matplotlib.pyplot as plt\n",
    "from pandas.plotting import register_matplotlib_converters\n",
    "register_matplotlib_converters()"
   ]
  },
  {
   "cell_type": "code",
   "execution_count": 3,
   "metadata": {},
   "outputs": [],
   "source": [
    "from constant import *\n",
    "from Params import *\n",
    "from abs_util.util_general import *\n",
    "from abs_util.util_waterfall import run_Accounts,BasicInfo_calculator,CR_calculator,NPV_calculator\n",
    "from Deal import Deal\n",
    "from RevolvingDeal import RevolvingDeal\n",
    "from Statistics import Statistics\n",
    "from ReverseSelection import ReverseSelection\n",
    "from AssetsCashFlow import AssetsCashFlow\n",
    "from APCF_adjuster import APCF_adjuster\n",
    "\n",
    "logger = get_logger(__name__)"
   ]
  },
  {
   "cell_type": "code",
   "execution_count": 4,
   "metadata": {},
   "outputs": [],
   "source": [
    "if os.path.isfile(wb_name):\n",
    "  os.remove(wb_name)"
   ]
  },
  {
   "cell_type": "code",
   "execution_count": 5,
   "metadata": {},
   "outputs": [
    {
     "name": "stderr",
     "output_type": "stream",
     "text": [
      "INFO:Deal:Initializing Project....\n",
      "INFO:Deal:ProjectName is: ABS13\n",
      "INFO:Deal:date_pool_cut is: 2019-03-01\n",
      "INFO:Deal:date_trust_effective is: 2019-05-20\n",
      "INFO:RevolvingDeal:If it is RevolvingDeal: True\n",
      "INFO:RevolvingDeal:date_revolving_pools_cut: [datetime.date(2019, 6, 1), datetime.date(2019, 7, 1), datetime.date(2019, 8, 1), datetime.date(2019, 9, 1), datetime.date(2019, 10, 1), datetime.date(2019, 11, 1)]\n"
     ]
    }
   ],
   "source": [
    "#Initializing Project\n",
    "RD = RevolvingDeal(ProjectName,dt_param['dt_pool_cut'],dt_param['dt_trust_effective'],Flag_RevolvingDeal,date_revolving_pools_cut)"
   ]
  },
  {
   "cell_type": "code",
   "execution_count": 6,
   "metadata": {},
   "outputs": [
    {
     "name": "stderr",
     "output_type": "stream",
     "text": [
      "INFO:Deal:Getting part ABS13_InitialPool_20190311...\n",
      "INFO:Deal:Renaming header....\n",
      "INFO:Deal:Asset Pool Gotten.\n"
     ]
    }
   ],
   "source": [
    "#Fetch asset pool\n",
    "RD.get_AssetPool(['ABS13_InitialPool_20190311'])"
   ]
  },
  {
   "cell_type": "code",
   "execution_count": 7,
   "metadata": {},
   "outputs": [],
   "source": [
    "#RD.run_Stat(Distribution_By_Category,Distribution_By_Bins)"
   ]
  },
  {
   "cell_type": "code",
   "execution_count": 8,
   "metadata": {},
   "outputs": [],
   "source": [
    "#pd.pivot_table(RD.asset_pool,values='Amount_Outstanding_yuan', index=['Gender'],columns=['Marriagestate'], aggfunc=np.sum)\n",
    "\n",
    "#pivot_ui(RD.asset_pool[['Gender','Marriagestate','Province','Amount_Outstanding_yuan']],rows=['Gender'], cols=['Marriagestate'])"
   ]
  },
  {
   "cell_type": "code",
   "execution_count": 9,
   "metadata": {},
   "outputs": [
    {
     "name": "stderr",
     "output_type": "stream",
     "text": [
      "INFO:Deal:init_oAP_Acc....\n",
      "INFO:Deal:init_oAP_Acc Done.\n",
      "INFO:Deal:oAP_ACC accounts consist of:  \n",
      "            Principal Collection Accounts:\n",
      "            self.AP_PAcc_original_O,self.AP_PAcc_actual_O,self.AP_PAcc_pay_O,self.AP_PAcc_buy_O. \n",
      "            self.AP_PAcc_actual_O = [['ER_recycle_principal','Normal_recycle_principal','Redemption_recycle_principal',\n",
      "                                      'Overdue_1_30_recycle_principal','Overdue_31_60_recycle_principal','Overdue_61_90_recycle_principal',\n",
      "                                      'Recovery_recycle_principal']].sum(axis=1)\n",
      "            \n",
      "            The same type of accounts are also created for Interest Collection.\n"
     ]
    }
   ],
   "source": [
    "RD.init_oAP_Acc()"
   ]
  },
  {
   "cell_type": "code",
   "execution_count": 10,
   "metadata": {},
   "outputs": [
    {
     "name": "stderr",
     "output_type": "stream",
     "text": [
      "INFO:__main__:Collecting CF for asset_status 正常贷款\n",
      "INFO:AssetsCashFlow:cash_flow_collection...\n",
      "INFO:abs_util.util_general:Saving cf_o\n",
      "INFO:__main__:Collecting CF for asset_status 正常贷款 is done.\n",
      "INFO:__main__:No Assets to calc for 拖欠1-30天贷款\n",
      "INFO:__main__:No Assets to calc for 拖欠31-60天贷款\n",
      "INFO:__main__:No Assets to calc for 拖欠61-90天贷款\n",
      "INFO:__main__:No Assets to calc for 拖欠90天以上贷款\n"
     ]
    }
   ],
   "source": [
    "for asset_status in all_asset_status:\n",
    "    if len(RD.asset_pool[(RD.asset_pool['贷款状态'] == asset_status)]) == 0:\n",
    "        logger.info('No Assets to calc for {0}'.format(asset_status))\n",
    "        continue\n",
    "    else:\n",
    "        logger.info('Collecting CF for asset_status {0}'.format(asset_status))   \n",
    "        \n",
    "        ####################\n",
    "        RD.get_oAPCF(asset_status,\n",
    "                     asset_status_calcDate_BackMonth[asset_status]['BackMonth'],\n",
    "                     asset_status_calcDate_BackMonth[asset_status]['calcDate']\n",
    "                     )\n",
    "\n",
    "        save_to_excel(RD.apcf_original[asset_status],'cf_o',wb_name)\n",
    "        #save_to_excel(RD.df_ppmt[asset_status],'df_ppmt',wb_name)\n",
    "        #save_to_excel(RD.apcf_original_structure[asset_status],'cf_o_structure',wb_name)\n",
    "        logger.info('Collecting CF for asset_status {0} is done.'.format(asset_status))  "
   ]
  },
  {
   "cell_type": "code",
   "execution_count": 11,
   "metadata": {},
   "outputs": [],
   "source": [
    "#'M0_2_M1':0.022,\n",
    "#'M1_2_M0M2':0.5,\n",
    "scenarios = {}\n",
    "scenarios['best'] = {'M0_2_ERM0':0.99,'M2_2_M0M3':0.6,'M3_2_M0D':0.75,'D_2_RL':0.85,'scenario_weight':0.7}\n",
    "#scenarios['worst'] = {'M0_2_ERM0':0.99,'M0_2_M1':0.05,'M1_2_M0M2':0.5,'M2_2_M0M3':0.7,'M3_2_M0D':0.7,'D_2_RL':0.99,'scenario_weight':0.3} "
   ]
  },
  {
   "cell_type": "code",
   "execution_count": 12,
   "metadata": {},
   "outputs": [],
   "source": [
    "def adjust_n_plot(best_M0_2_M1,best_M1_2_M0M2):\n",
    "    \n",
    "    scenarios['best']['M0_2_M1'] = best_M0_2_M1\n",
    "    scenarios['best']['M1_2_M0M2'] = best_M1_2_M0M2\n",
    "    \n",
    "    RD.init_oAP_scenarios(scenarios)\n",
    "    \n",
    "    for asset_status in all_asset_status:\n",
    "        if len(RD.asset_pool[(RD.asset_pool['贷款状态'] == asset_status)]) == 0:\n",
    "            logger.info('No Assets to calc for {0}'.format(asset_status))\n",
    "            continue\n",
    "        else:\n",
    "            for scenario_id in scenarios.keys():\n",
    "                logger.info('Adjust oAPCF with simulation for scenario {0}...'.format(scenario_id))\n",
    "                logger.info('There are total {0} simulations to go'.format(simulation_times))\n",
    "                for _sim in range(simulation_times):#\n",
    "                    logger.info(\"Calc 'Scenario - Simulation' : {0} - {1}...\".format(scenario_id,_sim+1))\n",
    "\n",
    "                    ##################\n",
    "                    RD.adjust_oAPCF(scenario_id,asset_status,asset_status_calcDate_BackMonth[asset_status]['calcDate'])                \n",
    "                    save_to_excel(RD.APCF_adjusted_save[asset_status][scenario_id],'cf_O_adjusted_'+scenario_id,wb_name)\n",
    "                    logger.info(\"Calc 'Scenario - Simulation' : {0} - {1} is done.\".format(scenario_id,_sim+1))\n",
    "\n",
    "                    ######### create RD.APCF_adjusted_save[asset_status][scenario_id][_sim] to descope this function\n",
    "                    RD.update_oAP_Acc(scenario_id,asset_status)\n",
    "                    logger.info(\"Update oAP_Acc 'Scenario - Simulation' : {0} - {1} is done.\".format(scenario_id,_sim+1))\n",
    "\n",
    "\n",
    "\n",
    "    for scenario_id in scenarios.keys():\n",
    "\n",
    "        RD.oAP_Acc_DeSimulation(scenario_id,simulation_times)\n",
    "        save_to_excel(RD.df_AP_PAcc_actual_O_DeSimu[scenario_id],'De-Sim_'+scenario_id,wb_name)\n",
    "\n",
    "    plt.figure(figsize=(8,5))\n",
    "    plt.plot(RD.df_AP_PAcc_actual_O_DeSimu['best']['date_recycle'],RD.df_AP_PAcc_actual_O_DeSimu['best']['principal_loss_allTerm']/10000,c='k',lw=2)\n",
    "    plt.scatter(RD.df_AP_PAcc_actual_O_DeSimu['best']['date_recycle'],RD.df_AP_PAcc_actual_O_DeSimu['best']['principal_loss_allTerm']/10000,edgecolors='k',c='yellow',s=60)\n",
    "    plt.grid(True)\n",
    "    plt.show()\n",
    "    return (RD.df_AP_PAcc_actual_O_DeSimu['best']['date_recycle'],RD.df_AP_PAcc_actual_O_DeSimu['best']['principal_loss_allTerm']/10000)"
   ]
  },
  {
   "cell_type": "code",
   "execution_count": 13,
   "metadata": {},
   "outputs": [
    {
     "data": {
      "application/vnd.jupyter.widget-view+json": {
       "model_id": "6d4932c23ea747658ebf6fc8156b23b3",
       "version_major": 2,
       "version_minor": 0
      },
      "text/plain": [
       "interactive(children=(FloatSlider(value=0.02, description='best_M0_2_M1', max=0.05, min=0.01, step=0.01), Floa…"
      ]
     },
     "metadata": {},
     "output_type": "display_data"
    }
   ],
   "source": [
    "p=interactive(adjust_n_plot,best_M0_2_M1 = (0.01,0.05,0.01),best_M1_2_M0M2 = (0.5,0.6,0.02))\n",
    "display(p)"
   ]
  },
  {
   "cell_type": "code",
   "execution_count": 21,
   "metadata": {},
   "outputs": [
    {
     "name": "stderr",
     "output_type": "stream",
     "text": [
      "INFO:__main__:CDR_calc_O...for best...\n",
      "INFO:Deal:CDR for best is: 2.3157% \n",
      "INFO:abs_util.util_general:Saving RnR&CDR\n"
     ]
    }
   ],
   "source": [
    "for scenario_id in scenarios.keys():\n",
    "    logger.info('CDR_calc_O...for {0}...'.format(scenario_id))\n",
    "    \n",
    "    ###############\n",
    "    RD.CDR_calc_O(scenario_id)\n",
    "    \n",
    "save_to_excel(pd.DataFrame.from_dict(RD.CDR_O),'RnR&CDR',wb_name)"
   ]
  },
  {
   "cell_type": "code",
   "execution_count": 22,
   "metadata": {},
   "outputs": [
    {
     "name": "stderr",
     "output_type": "stream",
     "text": [
      "INFO:RevolvingDeal:get_rAPCF_structure...\n",
      "INFO:RevolvingDeal:init_rAP_Acc...\n",
      "INFO:RevolvingDeal:init_rAP_Acc is done.\n",
      "INFO:__main__:forcast_Revolving_APCF for scenario_id best...\n",
      "INFO:RevolvingDeal:purchase_amount for scenario_id best and Revolving pool 1 is :968,273,989.24\n",
      "INFO:APCF_adjuster:adjust_APCF for R...\n",
      "INFO:RevolvingDeal:update_rAP_acc for revolving pool 1...\n",
      "INFO:RevolvingDeal:purchase_amount for scenario_id best and Revolving pool 2 is :374,351,391.25\n",
      "INFO:APCF_adjuster:adjust_APCF for R...\n",
      "INFO:RevolvingDeal:update_rAP_acc for revolving pool 2...\n",
      "INFO:RevolvingDeal:purchase_amount for scenario_id best and Revolving pool 3 is :429,861,930.02\n",
      "INFO:APCF_adjuster:adjust_APCF for R...\n",
      "INFO:RevolvingDeal:update_rAP_acc for revolving pool 3...\n",
      "INFO:RevolvingDeal:purchase_amount for scenario_id best and Revolving pool 4 is :443,460,749.64\n",
      "INFO:APCF_adjuster:adjust_APCF for R...\n",
      "INFO:RevolvingDeal:update_rAP_acc for revolving pool 4...\n",
      "INFO:RevolvingDeal:purchase_amount for scenario_id best and Revolving pool 5 is :495,518,999.76\n",
      "INFO:APCF_adjuster:adjust_APCF for R...\n",
      "INFO:RevolvingDeal:update_rAP_acc for revolving pool 5...\n",
      "INFO:RevolvingDeal:purchase_amount for scenario_id best and Revolving pool 6 is :489,815,914.74\n",
      "INFO:APCF_adjuster:adjust_APCF for R...\n",
      "INFO:RevolvingDeal:update_rAP_acc for revolving pool 6...\n"
     ]
    }
   ],
   "source": [
    "RD.get_rAPCF_structure()\n",
    "\n",
    "RD.init_rAP_scenarios(scenarios)\n",
    "\n",
    "RD.init_rAP_Acc()\n",
    "\n",
    "for scenario_id in scenarios.keys():\n",
    "    logger.info('forcast_Revolving_APCF for scenario_id {0}...'.format(scenario_id))  \n",
    "    if RD.RevolvingDeal is not True:\n",
    "        pass\n",
    "    else:\n",
    "            for which_revolving_pool in range(1,len(RD.date_revolving_pools_cut) + 1):\n",
    "                \n",
    "                ##################\n",
    "                #logger.info('forcast_Revolving_APCF for which_revolving_pool {0}...'.format(which_revolving_pool))\n",
    "                purchase_amount = RD.prepare_PurchaseAmount(which_revolving_pool,scenario_id)\n",
    "                apcf_revolving_structure = deepcopy(RD.apcf_revolving_structure)\n",
    "\n",
    "                ################\n",
    "                RD.prepare_revolving_pool(scenario_id,which_revolving_pool,purchase_amount,apcf_revolving_structure)\n",
    "\n",
    "                ##################\n",
    "                APCFa = APCF_adjuster(RD.scenarios,scenario_id,RD.apcf_revolving[scenario_id][which_revolving_pool],\n",
    "                                      RD.df_ppmt[scenario_id][which_revolving_pool],RD.df_ipmt[scenario_id][which_revolving_pool],\n",
    "                                      RD.dates_recycle_list_revolving[scenario_id][which_revolving_pool],date_revolving_pools_cut[which_revolving_pool-1],asset_status_for_revolving)\n",
    "                RD.apcf_revolving_adjusted[scenario_id][which_revolving_pool],RD.APCF_R_adjusted_save[scenario_id][which_revolving_pool] = APCFa.adjust_APCF('R')\n",
    "                #save_to_excel(self.apcf_revolving_adjusted[scenario_id][which_revolving_pool],'rAPCFa_' + scenario_id + str(which_revolving_pool),wb_name)\n",
    "\n",
    "                ###################\n",
    "                RD.update_rAP_acc(scenario_id,which_revolving_pool)"
   ]
  },
  {
   "cell_type": "code",
   "execution_count": 23,
   "metadata": {},
   "outputs": [
    {
     "name": "stderr",
     "output_type": "stream",
     "text": [
      "INFO:__main__:forcast_Revolving_APCF for scenario_id best...\n",
      "INFO:abs_util.util_general:Saving Adjusted_all_rAP\n",
      "INFO:__main__:forcast_Revolving_APCF for scenario_id best...\n",
      "INFO:RevolvingDeal:CDR for best is: 2.9041% for Revolving Pool 1 \n",
      "INFO:RevolvingDeal:CDR for best is: 4.8166% for Revolving Pool 2 \n",
      "INFO:RevolvingDeal:CDR for best is: 4.0018% for Revolving Pool 3 \n",
      "INFO:RevolvingDeal:CDR for best is: 3.3100% for Revolving Pool 4 \n",
      "INFO:RevolvingDeal:CDR for best is: 3.8383% for Revolving Pool 5 \n",
      "INFO:RevolvingDeal:CDR for best is: 4.9598% for Revolving Pool 6 \n",
      "INFO:abs_util.util_general:Saving RnR&CDR\n",
      "INFO:RevolvingDeal:CDR_all for best is: 3.1438% \n",
      "INFO:abs_util.util_general:Saving RnR&CDR\n"
     ]
    }
   ],
   "source": [
    "for scenario_id in scenarios.keys():\n",
    "    logger.info('forcast_Revolving_APCF for scenario_id {0}...'.format(scenario_id)) \n",
    "    RD.adjusted_all_rAP(scenario_id)\n",
    "    \n",
    "    save_to_excel(pd.DataFrame.from_dict(RD.apcf_revolving_adjusted_all[scenario_id]),'Adjusted_all_rAP',wb_name)\n",
    "\n",
    "\n",
    "for scenario_id in scenarios.keys():\n",
    "    logger.info('forcast_Revolving_APCF for scenario_id {0}...'.format(scenario_id))  \n",
    "    \n",
    "    ##################\n",
    "    RD.CDR_calc_R(scenario_id)\n",
    "    \n",
    "    save_to_excel(pd.DataFrame.from_dict(RD.CDR_R[scenario_id]),'RnR&CDR',wb_name)\n",
    "\n",
    "\n",
    "for scenario_id in scenarios.keys():\n",
    "    RD.CDR_calc_All(scenario_id)\n",
    "\n",
    "save_to_excel(pd.DataFrame.from_dict(RD.CDR_all),'RnR&CDR',wb_name)"
   ]
  },
  {
   "cell_type": "code",
   "execution_count": 24,
   "metadata": {},
   "outputs": [
    {
     "name": "stderr",
     "output_type": "stream",
     "text": [
      "INFO:Deal:scenario_id is best\n"
     ]
    }
   ],
   "source": [
    "#############\n",
    "RD.get_AP_pay_buy_allocation()    "
   ]
  },
  {
   "cell_type": "code",
   "execution_count": 25,
   "metadata": {},
   "outputs": [],
   "source": [
    "#fees['trustee']['rate'] = 0.00042"
   ]
  },
  {
   "cell_type": "code",
   "execution_count": 26,
   "metadata": {},
   "outputs": [
    {
     "name": "stderr",
     "output_type": "stream",
     "text": [
      "INFO:Deal:init_Liability_Acc...\n"
     ]
    }
   ],
   "source": [
    "RD.init_Liability_Acc(fees)"
   ]
  },
  {
   "cell_type": "code",
   "execution_count": 27,
   "metadata": {
    "collapsed": true
   },
   "outputs": [
    {
     "name": "stderr",
     "output_type": "stream",
     "text": [
      "INFO:__main__:scenario_id is best\n",
      "INFO:abs_util.util_waterfall:run_Accounts...\n",
      "INFO:__main__:Saving results for scenario best \n",
      "INFO:abs_util.util_general:Saving best\n",
      "INFO:abs_util.util_general:Saving best\n",
      "INFO:abs_util.util_general:Saving best\n",
      "INFO:abs_util.util_general:Saving best\n",
      "INFO:abs_util.util_general:Saving best\n",
      "INFO:abs_util.util_general:Saving best\n",
      "INFO:__main__:RnR is: 0.26448803049968467\n",
      "INFO:abs_util.util_general:Saving RnR&CDR\n"
     ]
    }
   ],
   "source": [
    "#RD.run_WaterFall()    # RD.waterfall[scenario_id] is available\n",
    "for scenario_id in scenarios.keys():\n",
    "    logger.info('scenario_id is {0}'.format(scenario_id))\n",
    "    RD.waterfall[scenario_id],RD.reserveAccount_used[scenario_id] = run_Accounts(RD.AP_PAcc_original[scenario_id],RD.AP_PAcc_actual[scenario_id],\n",
    "                                               RD.AP_PAcc_pay[scenario_id],RD.AP_PAcc_buy[scenario_id],\n",
    "                                               RD.AP_IAcc_original[scenario_id],RD.AP_IAcc_actual[scenario_id],\n",
    "                                               RD.AP_IAcc_pay[scenario_id],RD.AP_IAcc_buy[scenario_id],\n",
    "                                               RD.AP_PAcc_outstanding[scenario_id],RD.AP_PAcc_reserve[scenario_id],#self.AP_PAcc_loss_allTerm[scenario_id],\n",
    "                                               scenario_id,RD.RevolvingDeal,RD.Liability_Acc,RD.RevolvingPool_PurchaseAmount\n",
    "                                               )\n",
    "\n",
    "    RD.wf_BasicInfo[scenario_id] = deepcopy(BasicInfo_calculator(RD.waterfall[scenario_id],dt_param,Bonds))\n",
    "    RD.wf_CoverRatio[scenario_id] = deepcopy(CR_calculator(RD.waterfall[scenario_id],RD.AP_PAcc_pay[scenario_id],RD.AP_IAcc_pay[scenario_id]))\n",
    "    RD.wf_NPVs[scenario_id] = deepcopy(NPV_calculator(RD.waterfall[scenario_id],RD.AP_PAcc_pay[scenario_id],RD.AP_IAcc_pay[scenario_id]))\n",
    "    RD.reserveAccount_used[scenario_id] = pd.DataFrame.from_dict(RD.reserveAccount_used[scenario_id])\n",
    "\n",
    "for scenario_id in scenarios.keys():\n",
    "    logger.info('Saving results for scenario {0} '.format(scenario_id))\n",
    "    save_to_excel(RD.waterfall[scenario_id],scenario_id,wb_name)\n",
    "    save_to_excel(RD.wf_BasicInfo[scenario_id],scenario_id,wb_name)\n",
    "    save_to_excel(RD.wf_CoverRatio[scenario_id],scenario_id,wb_name)\n",
    "    save_to_excel(RD.wf_NPVs[scenario_id],scenario_id,wb_name)\n",
    "    save_to_excel(RD.reserveAccount_used[scenario_id],scenario_id,wb_name)\n",
    "    save_to_excel(RD.AP_pay_buy_allocation[scenario_id],scenario_id,wb_name)\n",
    "\n",
    "#################\n",
    "RnR = RD.cal_RnR()\n",
    "\n",
    "logger.info('RnR is: %s' % RnR)\n",
    "save_to_excel(pd.DataFrame({'RnR':[RnR]}),'RnR&CDR',wb_name)"
   ]
  },
  {
   "cell_type": "code",
   "execution_count": null,
   "metadata": {
    "collapsed": true
   },
   "outputs": [],
   "source": []
  }
 ],
 "metadata": {
  "kernelspec": {
   "display_name": "Python 3",
   "language": "python",
   "name": "python3"
  },
  "language_info": {
   "codemirror_mode": {
    "name": "ipython",
    "version": 3
   },
   "file_extension": ".py",
   "mimetype": "text/x-python",
   "name": "python",
   "nbconvert_exporter": "python",
   "pygments_lexer": "ipython3",
   "version": "3.6.6"
  }
 },
 "nbformat": 4,
 "nbformat_minor": 2
}
