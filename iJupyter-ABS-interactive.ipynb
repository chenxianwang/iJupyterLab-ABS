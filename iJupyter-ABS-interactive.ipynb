{
 "cells": [
  {
   "cell_type": "code",
   "execution_count": null,
   "metadata": {},
   "outputs": [],
   "source": [
    "import sys\n",
    "sys.path.append(\"..\")\n",
    "import os\n",
    "from copy import deepcopy\n",
    "from dateutil.relativedelta import relativedelta\n",
    "import pandas as pd\n",
    "import numpy as np\n",
    "import datetime"
   ]
  },
  {
   "cell_type": "code",
   "execution_count": null,
   "metadata": {},
   "outputs": [],
   "source": [
    "from constant import *\n",
    "from Params import *\n",
    "from abs_util.util_general import *\n",
    "from abs_util.util_waterfall import run_Accounts,BasicInfo_calculator,CR_calculator,NPV_calculator\n",
    "from Deal import Deal\n",
    "from RevolvingDeal import RevolvingDeal\n",
    "from Statistics import Statistics\n",
    "from ReverseSelection import ReverseSelection\n",
    "from AssetsCashFlow import AssetsCashFlow\n",
    "from APCF_adjuster import APCF_adjuster\n",
    "\n",
    "logger = get_logger(__name__)"
   ]
  },
  {
   "cell_type": "code",
   "execution_count": null,
   "metadata": {},
   "outputs": [],
   "source": [
    "if os.path.isfile(wb_name):\n",
    "  os.remove(wb_name)"
   ]
  },
  {
   "cell_type": "code",
   "execution_count": null,
   "metadata": {},
   "outputs": [],
   "source": [
    "#Initializing Project\n",
    "RD = RevolvingDeal(ProjectName,dt_param['dt_pool_cut'],dt_param['dt_trust_effective'],Flag_RevolvingDeal,date_revolving_pools_cut)"
   ]
  },
  {
   "cell_type": "code",
   "execution_count": null,
   "metadata": {},
   "outputs": [],
   "source": [
    "#Fetch asset pool\n",
    "RD.get_AssetPool(['part_1','part_2'])"
   ]
  },
  {
   "cell_type": "code",
   "execution_count": null,
   "metadata": {},
   "outputs": [],
   "source": [
    "#RD.run_Stat(Distribution_By_Category,Distribution_By_Bins)"
   ]
  },
  {
   "cell_type": "code",
   "execution_count": null,
   "metadata": {},
   "outputs": [],
   "source": [
    "#pd.pivot_table(RD.asset_pool,values='Amount_Outstanding_yuan', index=['Gender'],columns=['Marriagestate'], aggfunc=np.sum)\n",
    "\n",
    "#pivot_ui(RD.asset_pool[['Gender','Marriagestate','Province','Amount_Outstanding_yuan']],rows=['Gender'], cols=['Marriagestate'])"
   ]
  },
  {
   "cell_type": "code",
   "execution_count": null,
   "metadata": {},
   "outputs": [],
   "source": [
    "RD.init_oAP_Acc()"
   ]
  },
  {
   "cell_type": "code",
   "execution_count": null,
   "metadata": {},
   "outputs": [],
   "source": [
    "for asset_status in all_asset_status:\n",
    "    if len(RD.asset_pool[(RD.asset_pool['贷款状态'] == asset_status)]) == 0:\n",
    "        logger.info('No Assets to calc for {0}'.format(asset_status))\n",
    "        continue\n",
    "    else:\n",
    "        logger.info('Collecting CF for asset_status {0}'.format(asset_status))   \n",
    "        \n",
    "        ####################\n",
    "        RD.get_oAPCF(asset_status,\n",
    "                     asset_status_calcDate_BackMonth[asset_status]['BackMonth'],\n",
    "                     asset_status_calcDate_BackMonth[asset_status]['calcDate']\n",
    "                     )\n",
    "\n",
    "        save_to_excel(RD.apcf_original[asset_status],'cf_o',wb_name)\n",
    "        #save_to_excel(RD.df_ppmt[asset_status],'df_ppmt',wb_name)\n",
    "        #save_to_excel(RD.apcf_original_structure[asset_status],'cf_o_structure',wb_name)\n",
    "        logger.info('Collecting CF for asset_status {0} is done.'.format(asset_status))  "
   ]
  },
  {
   "cell_type": "code",
   "execution_count": null,
   "metadata": {},
   "outputs": [],
   "source": [
    "#M0_2_M1 = \n",
    "#M1_2_M0M2 = \n",
    "scenarios = {}\n",
    "scenarios['best'] = {'M0_2_ERM0':0.99,'M0_2_M1':0.022,'M1_2_M0M2':0.5,'M2_2_M0M3':0.6,'M3_2_M0D':0.75,'D_2_RL':0.85,'scenario_weight':0.7}\n",
    "#scenarios['worst'] = {'M0_2_ERM0':0.99,'M0_2_M1':0.05,'M1_2_M0M2':0.5,'M2_2_M0M3':0.7,'M3_2_M0D':0.7,'D_2_RL':0.99,'scenario_weight':0.3} "
   ]
  },
  {
   "cell_type": "code",
   "execution_count": null,
   "metadata": {},
   "outputs": [],
   "source": [
    "RD.init_oAP_scenarios(scenarios)"
   ]
  },
  {
   "cell_type": "code",
   "execution_count": null,
   "metadata": {},
   "outputs": [],
   "source": [
    "for asset_status in all_asset_status:\n",
    "    if len(RD.asset_pool[(RD.asset_pool['贷款状态'] == asset_status)]) == 0:\n",
    "        logger.info('No Assets to calc for {0}'.format(asset_status))\n",
    "        continue\n",
    "    else:\n",
    "        for scenario_id in scenarios.keys():\n",
    "            logger.info('Adjust oAPCF with simulation for scenario {0}...'.format(scenario_id))\n",
    "            logger.info('There are total {0} simulations to go'.format(simulation_times))\n",
    "            for _sim in range(simulation_times):#\n",
    "                logger.info(\"Calc 'Scenario - Simulation' : {0} - {1}...\".format(scenario_id,_sim+1))\n",
    "                \n",
    "                ##################\n",
    "                RD.adjust_oAPCF(scenario_id,asset_status,asset_status_calcDate_BackMonth[asset_status]['calcDate'])                \n",
    "                save_to_excel(RD.APCF_adjusted_save[asset_status][scenario_id],'cf_O_adjusted_'+scenario_id,wb_name)\n",
    "                logger.info(\"Calc 'Scenario - Simulation' : {0} - {1} is done.\".format(scenario_id,_sim+1))\n",
    "                \n",
    "                ######### create RD.APCF_adjusted_save[asset_status][scenario_id][_sim] to descope this function\n",
    "                RD.update_oAP_Acc(scenario_id,asset_status)\n",
    "                logger.info(\"Update oAP_Acc 'Scenario - Simulation' : {0} - {1} is done.\".format(scenario_id,_sim+1))\n",
    "                \n",
    "                "
   ]
  },
  {
   "cell_type": "code",
   "execution_count": null,
   "metadata": {},
   "outputs": [],
   "source": [
    "for scenario_id in scenarios.keys():\n",
    "\n",
    "    RD.oAP_Acc_DeSimulation(scenario_id,simulation_times)\n",
    "    save_to_excel(RD.df_AP_PAcc_actual_O_DeSimu,'De-Sim_'+scenario_id,wb_name)"
   ]
  },
  {
   "cell_type": "code",
   "execution_count": null,
   "metadata": {},
   "outputs": [],
   "source": [
    "for scenario_id in scenarios.keys():\n",
    "    logger.info('CDR_calc_O...for {0}...'.format(scenario_id))\n",
    "    \n",
    "    ###############\n",
    "    RD.CDR_calc_O(scenario_id)\n",
    "    \n",
    "save_to_excel(pd.DataFrame.from_dict(RD.CDR_O),'RnR&CDR',wb_name)\n",
    "\n",
    "RD.get_rAPCF_structure()\n",
    "\n",
    "RD.init_rAP_scenarios(scenarios)\n",
    "\n",
    "RD.init_rAP_Acc()\n",
    "\n",
    "for scenario_id in scenarios.keys():\n",
    "    logger.info('forcast_Revolving_APCF for scenario_id {0}...'.format(scenario_id))  \n",
    "    if RD.RevolvingDeal is not True:\n",
    "        pass\n",
    "    else:\n",
    "            for which_revolving_pool in range(1,len(RD.date_revolving_pools_cut) + 1):\n",
    "                \n",
    "                ##################\n",
    "                #logger.info('forcast_Revolving_APCF for which_revolving_pool {0}...'.format(which_revolving_pool))\n",
    "                purchase_amount = RD.prepare_PurchaseAmount(which_revolving_pool,scenario_id)\n",
    "                apcf_revolving_structure = deepcopy(RD.apcf_revolving_structure)\n",
    "\n",
    "                ################\n",
    "                RD.prepare_revolving_pool(scenario_id,which_revolving_pool,purchase_amount,apcf_revolving_structure)\n",
    "\n",
    "                ##################\n",
    "                APCFa = APCF_adjuster(RD.scenarios,scenario_id,RD.apcf_revolving[scenario_id][which_revolving_pool],\n",
    "                                      RD.df_ppmt[scenario_id][which_revolving_pool],RD.df_ipmt[scenario_id][which_revolving_pool],\n",
    "                                      RD.dates_recycle_list_revolving[scenario_id][which_revolving_pool],date_revolving_pools_cut[which_revolving_pool-1],asset_status_for_revolving)\n",
    "                RD.apcf_revolving_adjusted[scenario_id][which_revolving_pool],RD.APCF_R_adjusted_save[scenario_id][which_revolving_pool] = APCFa.adjust_APCF('R')\n",
    "                #save_to_excel(self.apcf_revolving_adjusted[scenario_id][which_revolving_pool],'rAPCFa_' + scenario_id + str(which_revolving_pool),wb_name)\n",
    "\n",
    "                ###################\n",
    "                RD.update_rAP_acc(scenario_id,which_revolving_pool)"
   ]
  },
  {
   "cell_type": "code",
   "execution_count": null,
   "metadata": {},
   "outputs": [],
   "source": [
    "for scenario_id in scenarios.keys():\n",
    "    logger.info('forcast_Revolving_APCF for scenario_id {0}...'.format(scenario_id)) \n",
    "    RD.adjusted_all_rAP(scenario_id)\n",
    "    \n",
    "    save_to_excel(pd.DataFrame.from_dict(RD.apcf_revolving_adjusted_all[scenario_id]),'Adjusted_all_rAP',wb_name)\n",
    "\n",
    "\n",
    "for scenario_id in scenarios.keys():\n",
    "    logger.info('forcast_Revolving_APCF for scenario_id {0}...'.format(scenario_id))  \n",
    "    \n",
    "    ##################\n",
    "    RD.CDR_calc_R(scenario_id)\n",
    "    \n",
    "    save_to_excel(pd.DataFrame.from_dict(RD.CDR_R[scenario_id]),'RnR&CDR',wb_name)\n",
    "\n",
    "\n",
    "for scenario_id in scenarios.keys():\n",
    "    RD.CDR_calc_All(scenario_id)\n",
    "\n",
    "save_to_excel(pd.DataFrame.from_dict(RD.CDR_all),'RnR&CDR',wb_name)\n",
    "\n",
    "#############\n",
    "RD.get_AP_pay_buy_allocation()    \n",
    "\n",
    "RD.init_Liability_Acc(fees)"
   ]
  },
  {
   "cell_type": "code",
   "execution_count": null,
   "metadata": {
    "collapsed": true
   },
   "outputs": [],
   "source": [
    "#RD.run_WaterFall()    # RD.waterfall[scenario_id] is available\n",
    "for scenario_id in scenarios.keys():\n",
    "    logger.info('scenario_id is {0}'.format(scenario_id))\n",
    "    RD.waterfall[scenario_id],RD.reserveAccount_used[scenario_id] = run_Accounts(RD.AP_PAcc_original[scenario_id],RD.AP_PAcc_actual[scenario_id],\n",
    "                                               RD.AP_PAcc_pay[scenario_id],RD.AP_PAcc_buy[scenario_id],\n",
    "                                               RD.AP_IAcc_original[scenario_id],RD.AP_IAcc_actual[scenario_id],\n",
    "                                               RD.AP_IAcc_pay[scenario_id],RD.AP_IAcc_buy[scenario_id],\n",
    "                                               RD.AP_PAcc_outstanding[scenario_id],RD.AP_PAcc_reserve[scenario_id],#self.AP_PAcc_loss_allTerm[scenario_id],\n",
    "                                               scenario_id,RD.RevolvingDeal,RD.Liability_Acc,RD.RevolvingPool_PurchaseAmount\n",
    "                                               )\n",
    "\n",
    "    RD.wf_BasicInfo[scenario_id] = deepcopy(BasicInfo_calculator(RD.waterfall[scenario_id],dt_param,Bonds))\n",
    "    RD.wf_CoverRatio[scenario_id] = deepcopy(CR_calculator(RD.waterfall[scenario_id],RD.AP_PAcc_pay[scenario_id],RD.AP_IAcc_pay[scenario_id]))\n",
    "    RD.wf_NPVs[scenario_id] = deepcopy(NPV_calculator(RD.waterfall[scenario_id],RD.AP_PAcc_pay[scenario_id],RD.AP_IAcc_pay[scenario_id]))\n",
    "    RD.reserveAccount_used[scenario_id] = pd.DataFrame.from_dict(RD.reserveAccount_used[scenario_id])\n",
    "\n",
    "for scenario_id in scenarios.keys():\n",
    "    logger.info('Saving results for scenario {0} '.format(scenario_id))\n",
    "    save_to_excel(RD.waterfall[scenario_id],scenario_id,wb_name)\n",
    "    save_to_excel(RD.wf_BasicInfo[scenario_id],scenario_id,wb_name)\n",
    "    save_to_excel(RD.wf_CoverRatio[scenario_id],scenario_id,wb_name)\n",
    "    save_to_excel(RD.wf_NPVs[scenario_id],scenario_id,wb_name)\n",
    "    save_to_excel(RD.reserveAccount_used[scenario_id],scenario_id,wb_name)\n",
    "    save_to_excel(RD.AP_pay_buy_allocation[scenario_id],scenario_id,wb_name)\n",
    "\n",
    "#################\n",
    "RnR = RD.cal_RnR()\n",
    "\n",
    "logger.info('RnR is: %s' % RnR)\n",
    "save_to_excel(pd.DataFrame({'RnR':[RnR]}),'RnR&CDR',wb_name)"
   ]
  },
  {
   "cell_type": "code",
   "execution_count": null,
   "metadata": {
    "collapsed": true
   },
   "outputs": [],
   "source": []
  }
 ],
 "metadata": {
  "kernelspec": {
   "display_name": "Python 3",
   "language": "python",
   "name": "python3"
  },
  "language_info": {
   "codemirror_mode": {
    "name": "ipython",
    "version": 3
   },
   "file_extension": ".py",
   "mimetype": "text/x-python",
   "name": "python",
   "nbconvert_exporter": "python",
   "pygments_lexer": "ipython3",
   "version": "3.6.6"
  }
 },
 "nbformat": 4,
 "nbformat_minor": 2
}
